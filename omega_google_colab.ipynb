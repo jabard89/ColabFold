{
  "cells": [
    {
      "cell_type": "markdown",
      "metadata": {
        "id": "view-in-github",
        "colab_type": "text"
      },
      "source": [
        "<a href=\"https://colab.research.google.com/github/jabard89/ColabFold/blob/main/omega_google_colab.ipynb\" target=\"_parent\"><img src=\"https://colab.research.google.com/assets/colab-badge.svg\" alt=\"Open In Colab\"/></a>"
      ]
    },
    {
      "cell_type": "markdown",
      "metadata": {
        "id": "8asztliCgExc"
      },
      "source": [
        "# About\n",
        "\n",
        "This is a Google Colab notebook that runs OMEGA. To use and make edits, save a copy to your Google Drive.\n",
        "\n",
        "Below, we include all code to install OMEGA and required dependencies.\n",
        "\n",
        "\n",
        "# Change runtime type to improve speed\n",
        "\n",
        "The TPU runtime offers a significant speed boost over the default Google Colab runtime. To take advantage of this, go to Runtime --> Change runtime type and select `v2-8 TPU`.\n",
        "\n",
        "# Runtime warning\n",
        "\n",
        "Resources are not gauranteed, runtimes may be disconnected without warning."
      ]
    },
    {
      "cell_type": "markdown",
      "metadata": {
        "id": "cvf-Lw6QgJGq"
      },
      "source": [
        "# Install dependencies and OMEGA"
      ]
    },
    {
      "cell_type": "code",
      "execution_count": null,
      "metadata": {
        "id": "_3VGQqIegB7T"
      },
      "outputs": [],
      "source": [
        "!pip install biopython==1.83\n",
        "!pip install numpy==2 # 1.26.0\n",
        "!pip install jsonargparse\n",
        "!pip install more-itertools==10.6.0\n",
        "\n",
        "# install omega\n",
        "!git clone https://github.com/RomeroLab/omega.git\n"
      ]
    },
    {
      "cell_type": "markdown",
      "metadata": {
        "id": "LMGJ-_ALJfYi"
      },
      "source": [
        "# Apply OMEGA to design custom oligo pool\n",
        "\n",
        "The code below writes a `config.yml` file to define OMEGA run parameters. Update the file with parameters needed for your oligo pool design including the path to the input sequences fasta file. We have intially set the number of optimization steps `nopt_steps` to 10 for testing. The final design run should use >=1000.\n",
        "\n",
        "More detailed optimization guidelines are included in the GitHub `README.md`"
      ]
    },
    {
      "cell_type": "code",
      "execution_count": null,
      "metadata": {
        "id": "RsOH9uefJfYj"
      },
      "outputs": [],
      "source": [
        "config_file = \"\"\"\n",
        "# Input/output locations\n",
        "input_seqs: /content/test.fasta # input sequences fasta file. Update with path to your fasta file.\n",
        "output_dir: designed_oligos\n",
        "\n",
        "# Enzyme and overhang constraints\n",
        "enzyme: BsaI             # Type IIS restriction enzyme used for cloning. Other options include BsmBI and BbsI. BsaI is recommended.\n",
        "upstream_bbsite: AATG    # four basepair GG overhaing for ligating into plasmid backbone\n",
        "downstream_bbsite: TTAG  # four basepair GG overhaing for ligating into plasmid backbone\n",
        "other_used_sites: null   # Any additional GG sites that are fixed in the assembly that are not either the upstream or downstream bbstie\n",
        "\n",
        "# Run parameters\n",
        "njunctions: 50  # number of GG junctions allowed per subpool. We used 50 to assemble the GFP library.\n",
        "nopt_steps: 10  # number of optimization steps. Set to at least 1000 for full design run\n",
        "nopt_runs: 5    # number of independent optimization runs\n",
        "njobs: 5        # number of CPU cores used\n",
        "oligo_len: 300  # length of oligos to generate\n",
        "\n",
        "# Other options that probally don't need to be changed\n",
        "primers: ./omega/data/test_primers.csv # standard set of primers for amplifying subpools\n",
        "ligation_data: T4_18h_37C\n",
        "add_primers: true\n",
        "pad_oligos: true\n",
        "\n",
        "dev: false  # remove\n",
        "min_size: 40  # remove\n",
        "other_enzymes: null\n",
        "opt_seeds: null\n",
        "optimization: simulated_annealing\n",
        "\"\"\"\n",
        "open('config.yml', 'w').write(config_file);"
      ]
    },
    {
      "cell_type": "code",
      "execution_count": null,
      "metadata": {
        "id": "o4l_BmEuJfYj"
      },
      "outputs": [],
      "source": [
        "!python ./omega/code/omega.py genes --config config.yml"
      ]
    }
  ],
  "metadata": {
    "colab": {
      "private_outputs": true,
      "provenance": [],
      "include_colab_link": true
    },
    "kernelspec": {
      "display_name": "Python 3",
      "name": "python3"
    },
    "language_info": {
      "name": "python"
    }
  },
  "nbformat": 4,
  "nbformat_minor": 0
}